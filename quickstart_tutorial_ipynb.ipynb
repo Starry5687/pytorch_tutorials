{
  "cells": [
    {
      "cell_type": "markdown",
      "metadata": {
        "id": "view-in-github",
        "colab_type": "text"
      },
      "source": [
        "<a href=\"https://colab.research.google.com/github/Starry5687/pytorch_tutorials/blob/main/quickstart_tutorial_ipynb.ipynb\" target=\"_parent\"><img src=\"https://colab.research.google.com/assets/colab-badge.svg\" alt=\"Open In Colab\"/></a>"
      ]
    },
    {
      "cell_type": "code",
      "execution_count": null,
      "metadata": {
        "id": "zfU04eMZgGF1"
      },
      "outputs": [],
      "source": [
        "# For tips on running notebooks in Google Colab, see\n",
        "# https://pytorch.org/tutorials/beginner/colab\n",
        "%matplotlib inline"
      ]
    },
    {
      "cell_type": "markdown",
      "metadata": {
        "id": "o0Ee7fSWgGF6"
      },
      "source": [
        "\n",
        "[Learn the Basics](intro.html) ||\n",
        "**Quickstart** ||\n",
        "[Tensors](tensorqs_tutorial.html) ||\n",
        "[Datasets & DataLoaders](data_tutorial.html) ||\n",
        "[Transforms](transforms_tutorial.html) ||\n",
        "[Build Model](buildmodel_tutorial.html) ||\n",
        "[Autograd](autogradqs_tutorial.html) ||\n",
        "[Optimization](optimization_tutorial.html) ||\n",
        "[Save & Load Model](saveloadrun_tutorial.html)\n",
        "\n",
        "# Quickstart\n",
        "This section runs through the API for common tasks in machine learning. Refer to the links in each section to dive deeper.\n",
        "\n",
        "## Working with data\n",
        "PyTorch has two [primitives to work with data](https://pytorch.org/docs/stable/data.html):\n",
        "``torch.utils.data.DataLoader`` and ``torch.utils.data.Dataset``.\n",
        "``Dataset`` stores the samples and their corresponding labels, and ``DataLoader`` wraps an iterable around\n",
        "the ``Dataset``.\n"
      ]
    },
    {
      "cell_type": "markdown",
      "source": [
        "# 库，包，模块，类，对象的区别\n",
        "在 Python 中，库（library）、模块（module）、包（package）、类（class）和对象（object）是常见的编程概念，它们之间的关系如下：\n",
        "\n",
        "1. 库（library）：是一组相关的模块和函数的集合，用于实现某个特定的功能。在 Python 中，常见的库包括 NumPy、Pandas、Matplotlib、PyTorch 等。库是一个既包括目录（包），有包括文件（模块）的文件夹。\n",
        "\n",
        "2. 模块（module）：是一个单独的 Python 文件，可以包含一组相关的函数、类或变量等，用于实现某个特定的功能。在 Python 中，可以使用 import 语句来导入一个模块，并使用其中的函数、类或变量等。例如，Python 内置的 os 模块提供了操作系统接口，可以用于文件和目录操作。\n",
        "\n",
        "3. 包（package）：是包含多个模块的目录（文件夹），通常包含一个 init.py 文件，用于指定包的初始化操作。包可以看做是一个更高级别的组织方式，可以方便地组织和管理多个相关的模块。在 Python 中，可以使用 import 语句来导入一个包，例如：\n",
        "\n",
        "  import numpy as np\n",
        "这里的 numpy 是一个包，np 是一个别名，用于简化模块名的使用。\n",
        "\n",
        "4. 类（class）：是一种用户自定义的数据类型，用于封装数据和行为。类包含了一组属性和方法，可以实现代码的封装和复用。在 Python 中，可以使用 class 语句来定义一个类，例如：\n",
        "\n",
        "  class Person:\n",
        "\n",
        "        def __init__(self, name, age):\n",
        "          self.name = name\n",
        "          self.age = age\n",
        "      \n",
        "        def say_hello(self):\n",
        "          print(f\"Hello, my name is {self.name} and I'm {self.age} years old.\")\n",
        "这里定义了一个 Person 类，包含了 name 和 age 两个属性以及 say_hello 方法。可以使用以下代码来创建一个 Person 对象并调用 say_hello 方法：\n",
        "\n",
        "\n",
        "  person = Person(\"John\", 30)\n",
        "  person.say_hello()  # 输出：Hello, my name is John and I'm 30 years old.\n",
        "5. 对象（object）：是类的实例，包含了该类所定义的属性和方法。通过访问对象的属性和方法，可以实现对数据的操作和行为的调用。在 Python 中，可以使用类的构造函数来创建一个对象，例如：\n",
        "\n",
        "  person = Person(\"John\", 30)\n",
        "  这里创建了一个 Person 对象，并将其赋值给 person 变量。可以使用以下代码来访问对象的属性和方法：\n",
        "\n",
        "\n",
        "  print(person.name)  # 输出：John\n",
        "  print(person.age)  # 输出：30\n",
        "  person.say_hello()  # 输出：Hello, my name is John and I'm 30 years old.\n",
        "  综上所述，库、模块、包、类和对象在 Python 中都是非常重要的概念。"
      ],
      "metadata": {
        "id": "5Hp0A_5VnRdK"
      }
    },
    {
      "cell_type": "markdown",
      "source": [
        "# 库和包的区别\n",
        "包是一个特殊的目录结构，其中包含了一个或多个 Python 模块，以及一个名为 init.py 的文件，该文件用于标识该目录为一个包。包可以包含子包和模块，形成一个层级结构。例如，NumPy 就是一个包，它包含了多个子模块，如 numpy.core、numpy.lib、numpy.random 等。\n",
        "\n",
        "因此，库和包的区别在于，库是一个独立的代码集合，而包是一个目录结构，其中包含了一个或多个 Python 模块。库可以由一个或多个 Python 模块组成，而包必须包含一个 init.py 文件，并且可以包含子包和模块。\n",
        "\n",
        "1. 一个库可能既包含多个子包，也包含模块，这些子包和模块又可以包含其他的子包和模块，形成了一个层次结构。\n",
        "\n",
        "举个例子，matplotlib 库是一个广泛使用的用于绘图的 Python 库。它包含了多个子包和模块，其中比较重要的包括：\n",
        "\n",
        "matplotlib.pyplot：一个用于绘制图形的子包；\n",
        "matplotlib.axes：一个用于定义坐标轴的子模块；\n",
        "matplotlib.figure：一个用于定义图形的子模块；\n",
        "\n",
        "2. 一个库可以不包含子包，而只包含多个模块。这种情况下，所有的模块都直接放在库的根目录下，没有子包的概念。这种组织方式比较简单，适用于一些小型的功能库。\n",
        "\n",
        "举个例子，Python 标准库中的 math 模块就是这种组织方式。在使用时，只需要通过 import math 引入该模块即可，不需要再引入任何子包。\n",
        "\n",
        "不过，在实际开发中，一般都会采用包含子包的组织方式，以便更好地组织和管理库中的各个功能模块。\n",
        "\n",
        "3. 包中至少要包含一个模块或子包。如果一个包中没有任何模块或子包，那么这个包就是一个空的包，也就没有什么实际用途。\n",
        "\n",
        "不过，在一些特殊情况下，可能会创建一个只包含子包而没有模块的包。这种情况下，一般是为了更好地组织和管理子包，或者为了避免与其他库或模块的名称冲突。例如，PyTorch 中的 torch.utils 就是一个只包含子包的包，它用于存放 PyTorch 的各种实用工具子包，如数据加载器、优化器等等。在使用时，我们可以通过 import torch.utils.data、import torch.utils.tensorboard 等语句引入具体的子包。\n",
        "\n",
        "4. 只包含一个模块的库也可称为包。"
      ],
      "metadata": {
        "id": "dO095rbJv4d9"
      }
    },
    {
      "cell_type": "code",
      "execution_count": null,
      "metadata": {
        "id": "FTyezPn3gGF-"
      },
      "outputs": [],
      "source": [
        "import torch\n",
        "from torch import nn\n",
        "from torch.utils.data import DataLoader\n",
        "from torchvision import datasets\n",
        "from torchvision.transforms import ToTensor"
      ]
    },
    {
      "cell_type": "markdown",
      "metadata": {
        "id": "7Rs7PW9JgGGA"
      },
      "source": [
        "PyTorch offers domain-specific libraries such as [TorchText](https://pytorch.org/text/stable/index.html),\n",
        "[TorchVision](https://pytorch.org/vision/stable/index.html), and [TorchAudio](https://pytorch.org/audio/stable/index.html),\n",
        "all of which include datasets. For this tutorial, we  will be using a TorchVision dataset.\n",
        "\n",
        "The ``torchvision.datasets`` module contains ``Dataset`` objects for many real-world vision data like\n",
        "CIFAR, COCO ([full list here](https://pytorch.org/vision/stable/datasets.html)). In this tutorial, we\n",
        "use the FashionMNIST dataset. Every TorchVision ``Dataset`` includes two arguments: ``transform`` and\n",
        "``target_transform`` to modify the samples and labels respectively.\n",
        "\n",
        "PyTorch 提供了特定领域的库，例如 TorchText、TorchVision 和 TorchAudio，其中都包括了一些数据集。在本教程中，我们将使用 TorchVision 中的数据集。\n",
        "\n",
        "torchvision.datasets 模块包含了许多现实世界中的视觉数据集，例如 CIFAR、COCO（完整列表在此处）。在本教程中，我们将使用 FashionMNIST 数据集。每个 TorchVision 数据集都包括两个参数：transform 和 target_transform，用于分别修改样本和标签。\n",
        "\n",
        "nn：PyTorch 中的神经网络模块，包含了各种层、损失函数等等，方便用户构建神经网络模型；\n",
        "\n",
        "DataLoader：PyTorch 中的数据加载器，可以方便地对数据进行批量读取和处理，通常与自定义的数据集类一起使用；\n",
        "\n",
        "datasets：PyTorch 中预定义的数据集，包括 MNIST、CIFAR-10 等，可以通过该模块方便地获取这些数据集；\n",
        "\n",
        "ToTensor：一个 torchvision.transforms 模块中的变换函数，用于将 PIL.Image 或 numpy.ndarray 格式的图片数据转换为 PyTorch 中的 Tensor 格式，并将像素值归一化到 [0, 1] 范围内。"
      ]
    },
    {
      "cell_type": "code",
      "execution_count": null,
      "metadata": {
        "colab": {
          "base_uri": "https://localhost:8080/"
        },
        "id": "LdODanrugGGB",
        "outputId": "87c65e5e-1d4a-4c70-c59d-846b852d09e6"
      },
      "outputs": [
        {
          "output_type": "stream",
          "name": "stdout",
          "text": [
            "Downloading http://fashion-mnist.s3-website.eu-central-1.amazonaws.com/train-images-idx3-ubyte.gz\n",
            "Downloading http://fashion-mnist.s3-website.eu-central-1.amazonaws.com/train-images-idx3-ubyte.gz to data/FashionMNIST/raw/train-images-idx3-ubyte.gz\n"
          ]
        },
        {
          "output_type": "stream",
          "name": "stderr",
          "text": [
            "100%|██████████| 26421880/26421880 [00:04<00:00, 6508846.09it/s] \n"
          ]
        },
        {
          "output_type": "stream",
          "name": "stdout",
          "text": [
            "Extracting data/FashionMNIST/raw/train-images-idx3-ubyte.gz to data/FashionMNIST/raw\n",
            "\n",
            "Downloading http://fashion-mnist.s3-website.eu-central-1.amazonaws.com/train-labels-idx1-ubyte.gz\n",
            "Downloading http://fashion-mnist.s3-website.eu-central-1.amazonaws.com/train-labels-idx1-ubyte.gz to data/FashionMNIST/raw/train-labels-idx1-ubyte.gz\n"
          ]
        },
        {
          "output_type": "stream",
          "name": "stderr",
          "text": [
            "100%|██████████| 29515/29515 [00:00<00:00, 56671.12it/s]\n"
          ]
        },
        {
          "output_type": "stream",
          "name": "stdout",
          "text": [
            "Extracting data/FashionMNIST/raw/train-labels-idx1-ubyte.gz to data/FashionMNIST/raw\n",
            "\n",
            "Downloading http://fashion-mnist.s3-website.eu-central-1.amazonaws.com/t10k-images-idx3-ubyte.gz\n",
            "Downloading http://fashion-mnist.s3-website.eu-central-1.amazonaws.com/t10k-images-idx3-ubyte.gz to data/FashionMNIST/raw/t10k-images-idx3-ubyte.gz\n"
          ]
        },
        {
          "output_type": "stream",
          "name": "stderr",
          "text": [
            "100%|██████████| 4422102/4422102 [00:09<00:00, 474251.69it/s] \n"
          ]
        },
        {
          "output_type": "stream",
          "name": "stdout",
          "text": [
            "Extracting data/FashionMNIST/raw/t10k-images-idx3-ubyte.gz to data/FashionMNIST/raw\n",
            "\n",
            "Downloading http://fashion-mnist.s3-website.eu-central-1.amazonaws.com/t10k-labels-idx1-ubyte.gz\n",
            "Downloading http://fashion-mnist.s3-website.eu-central-1.amazonaws.com/t10k-labels-idx1-ubyte.gz to data/FashionMNIST/raw/t10k-labels-idx1-ubyte.gz\n"
          ]
        },
        {
          "output_type": "stream",
          "name": "stderr",
          "text": [
            "100%|██████████| 5148/5148 [00:00<00:00, 13903591.11it/s]"
          ]
        },
        {
          "output_type": "stream",
          "name": "stdout",
          "text": [
            "Extracting data/FashionMNIST/raw/t10k-labels-idx1-ubyte.gz to data/FashionMNIST/raw\n",
            "\n"
          ]
        },
        {
          "output_type": "stream",
          "name": "stderr",
          "text": [
            "\n"
          ]
        }
      ],
      "source": [
        "# Download training data from open datasets.\n",
        "training_data = datasets.FashionMNIST(\n",
        "    root=\"data\",\n",
        "    train=True,\n",
        "    download=True,\n",
        "    transform=ToTensor(),\n",
        ")\n",
        "\n",
        "# Download test data from open datasets.\n",
        "test_data = datasets.FashionMNIST(\n",
        "    root=\"data\",\n",
        "    train=False,\n",
        "    download=True,\n",
        "    transform=ToTensor(),\n",
        ")"
      ]
    },
    {
      "cell_type": "markdown",
      "source": [
        "datasets.FashionMNIST是一个PyTorch中的数据集，用于训练和测试图像分类模型，它包含了60,000张28x28像素的训练图像和10,000张测试图像，这些图像都属于10个不同的类别，分别是：T-shirt/top、Trouser、Pullover、Dress、Coat、Sandal、Shirt、Sneaker、Bag和Ankle boot。\n",
        "\n",
        "下面是datasets.FashionMNIST中的参数说明：\n",
        "\n",
        "root（字符串）：指定数据集的本地目录。\n",
        "train（布尔值）：如果为True，则加载训练集，否则加载测试集。\n",
        "download（布尔值）：如果为True，则从Internet下载数据集并将其保存到指定的root目录中。如果数据集已经存在，将不会再次下载。\n",
        "transform（可调用对象）：对加载的图像应用的变换，ToTensor()是一个内置的PyTorch函数，它将PIL Image或NumPy ndarray转换为张量并标准化像素值。"
      ],
      "metadata": {
        "id": "YxhJzbVmAqt9"
      }
    },
    {
      "cell_type": "markdown",
      "source": [],
      "metadata": {
        "id": "K3OaJmNp_2zj"
      }
    },
    {
      "cell_type": "markdown",
      "metadata": {
        "id": "gQNgGFjagGGC"
      },
      "source": [
        "We pass the ``Dataset`` as an argument to ``DataLoader``. This wraps an iterable over our dataset, and supports\n",
        "automatic batching, sampling, shuffling and multiprocess data loading. Here we define a batch size of 64, i.e. each element\n",
        "in the dataloader iterable will return a batch of 64 features and labels.\n",
        "\n"
      ]
    },
    {
      "cell_type": "code",
      "execution_count": null,
      "metadata": {
        "colab": {
          "base_uri": "https://localhost:8080/"
        },
        "id": "yj6x8yZpgGGC",
        "outputId": "5d46ff78-1d8f-4c4b-f089-b56be910a02a"
      },
      "outputs": [
        {
          "output_type": "stream",
          "name": "stdout",
          "text": [
            "Shape of X [N, C, H, W]: torch.Size([64, 1, 28, 28])\n",
            "Shape of y: torch.Size([64]) torch.int64\n"
          ]
        }
      ],
      "source": [
        "batch_size = 64\n",
        "\n",
        "# Create data loaders.\n",
        "train_dataloader = DataLoader(training_data, batch_size=batch_size)\n",
        "test_dataloader = DataLoader(test_data, batch_size=batch_size)\n",
        "\n",
        "for X, y in test_dataloader:\n",
        "    print(f\"Shape of X [N, C, H, W]: {X.shape}\")   # 字典格式打印\n",
        "    print(f\"Shape of y: {y.shape} {y.dtype}\")\n",
        "    break"
      ]
    },
    {
      "cell_type": "markdown",
      "source": [
        "DataLoader类使得数据加载变得简单，它能够自动将数据分成小批次，并在需要时将它们加载到内存中。在这里，我们使用DataLoader类加载training_data和test_data。在加载完数据后，我们可以通过迭代数据加载器来访问数据，每个迭代都会返回一个由X和y组成的元组，其中X是输入数据，y是标签数据。\n",
        "\n",
        "在这个例子中，我们只迭代了一个批次的数据，因此在打印出X和y的形状后，我们使用了break语句来停止迭代。print语句用于打印出X和y的形状，以便我们检查数据是否正确地加载到了内存中。最后，我们退出循环并结束了程序。\n",
        "\n",
        "在分批(batch)处理数据的情况下，每批之后都会调整参数，这样可以提高效率。模型仍然需要对整个训练集进行多轮训练，每轮训练称为一个epoch。每个epoch中，模型将训练集划分为多个batch，依次使用每个batch中的数据进行参数更新。当整个训练集中的数据都被用于训练时，一个epoch就结束了，模型的参数被更新一次。\n",
        "\n",
        "通常情况下，整个训练集可能会被分成多个batch，而每个batch的数据都是随机的。因此，在一个epoch中，模型将看到训练集中的不同数据，并尝试在训练集上寻找最优的参数配置。\n",
        "\n",
        "在深度学习中，一般会进行多个epoch的训练，以便进一步优化模型的参数，提高模型的性能。当然，epoch的数量也需要根据具体任务和数据集进行调整，过多的epoch可能会导致模型过拟合，而过少的epoch则可能会导致模型欠拟合。\n",
        "\n",
        "在深度学习中，通常使用张量（tensor）来表示数据，张量是一个多维数组，每个维度称为一个轴（axis）。\n",
        "\n",
        "在这段代码中，X是一个张量，它表示一个batch中的输入数据。该指令使用X.shape打印了张量X的形状信息，输出了一个字符串，其中包含了四个数字，分别表示张量的四个轴的大小，这四个数字分别对应于N、C、H、W。\n",
        "\n",
        "具体来说，这四个参数的含义如下：\n",
        "\n",
        "N：表示batch中的样本数量（batch size），样本的行数\n",
        "C：表示输入数据的通道数（channel）   \n",
        "H：表示输入数据的高度（height）\n",
        "W：表示输入数据的宽度（width）\n",
        "因此，这条打印信息的代码指令输出了输入数据的形状信息，其中[N, C, H, W]表示了四个轴的顺序，分别对应于batch size、通道数、高度和宽度。\n",
        "\n",
        "在计算机科学中，数据的高度和宽度通常是指图像、视频或其他形式的可视化数据的尺寸。\n",
        "\n",
        "高度通常是指图像或视频的垂直尺寸，即其在垂直方向上的像素数量。通常用像素（pixel）作为度量单位。\n",
        "\n",
        "宽度通常是指图像或视频的水平尺寸，即其在水平方向上的像素数量。同样地，通常用像素作为度量单位。\n",
        "\n",
        "例如，一张分辨率为640x480的图像表示该图像在水平方向上有640个像素，在垂直方向上有480个像素。在深度学习中，通常使用高度和宽度来描述输入数据的形状。例如，对于一张图像，其形状可能被表示为（H，W，C），其中H表示图像的高度，W表示图像的宽度，C表示图像的通道数（比如 RGB 彩色图像中的 C 为 3）。\n"
      ],
      "metadata": {
        "id": "eWACfIBHsPuK"
      }
    },
    {
      "cell_type": "markdown",
      "metadata": {
        "id": "zssA8LkigGGD"
      },
      "source": [
        "Read more about [loading data in PyTorch](data_tutorial.html).\n",
        "\n",
        "\n"
      ]
    },
    {
      "cell_type": "markdown",
      "metadata": {
        "id": "_IH8agbNgGGF"
      },
      "source": [
        "--------------\n",
        "\n",
        "\n"
      ]
    },
    {
      "cell_type": "markdown",
      "metadata": {
        "id": "Nb1TOvEEgGGG"
      },
      "source": [
        "## Creating Models\n",
        "To define a neural network in PyTorch, we create a class that inherits\n",
        "from [nn.Module](https://pytorch.org/docs/stable/generated/torch.nn.Module.html). We define the layers of the network\n",
        "in the ``__init__`` function and specify how data will pass through the network in the ``forward`` function. To accelerate\n",
        "operations in the neural network, we move it to the GPU or MPS if available.\n",
        "\n"
      ]
    },
    {
      "cell_type": "code",
      "execution_count": null,
      "metadata": {
        "id": "ILggXORtgGGH"
      },
      "outputs": [],
      "source": [
        "# Get cpu, gpu or mps device for training.\n",
        "device = (\n",
        "    \"cuda\"\n",
        "    if torch.cuda.is_available()\n",
        "    else \"mps\"\n",
        "    if torch.backends.mps.is_available()\n",
        "    else \"cpu\"\n",
        ")\n",
        "print(f\"Using {device} device\")\n",
        "\n",
        "# Define model\n",
        "class NeuralNetwork(nn.Module):\n",
        "    def __init__(self):\n",
        "        super().__init__()\n",
        "        self.flatten = nn.Flatten()\n",
        "        self.linear_relu_stack = nn.Sequential(\n",
        "            nn.Linear(28*28, 512),\n",
        "            nn.ReLU(),\n",
        "            nn.Linear(512, 512),\n",
        "            nn.ReLU(),\n",
        "            nn.Linear(512, 10)\n",
        "        )\n",
        "\n",
        "    def forward(self, x):\n",
        "        x = self.flatten(x)\n",
        "        logits = self.linear_relu_stack(x)\n",
        "        return logits\n",
        "\n",
        "model = NeuralNetwork().to(device)\n",
        "print(model)"
      ]
    },
    {
      "cell_type": "markdown",
      "metadata": {
        "id": "vJkquOQ4gGGI"
      },
      "source": [
        "Read more about [building neural networks in PyTorch](buildmodel_tutorial.html).\n",
        "\n",
        "\n"
      ]
    },
    {
      "cell_type": "markdown",
      "metadata": {
        "id": "d9iD7saPgGGJ"
      },
      "source": [
        "--------------\n",
        "\n",
        "\n"
      ]
    },
    {
      "cell_type": "markdown",
      "metadata": {
        "id": "DempUApzgGGJ"
      },
      "source": [
        "## Optimizing the Model Parameters\n",
        "To train a model, we need a [loss function](https://pytorch.org/docs/stable/nn.html#loss-functions)\n",
        "and an [optimizer](https://pytorch.org/docs/stable/optim.html).\n",
        "\n"
      ]
    },
    {
      "cell_type": "code",
      "execution_count": null,
      "metadata": {
        "id": "gLZVmcQkgGGJ"
      },
      "outputs": [],
      "source": [
        "loss_fn = nn.CrossEntropyLoss()\n",
        "optimizer = torch.optim.SGD(model.parameters(), lr=1e-3)"
      ]
    },
    {
      "cell_type": "markdown",
      "metadata": {
        "id": "nIy8uqjzgGGK"
      },
      "source": [
        "In a single training loop, the model makes predictions on the training dataset (fed to it in batches), and\n",
        "backpropagates the prediction error to adjust the model's parameters.\n",
        "\n"
      ]
    },
    {
      "cell_type": "code",
      "execution_count": null,
      "metadata": {
        "id": "L0A83SsjgGGL"
      },
      "outputs": [],
      "source": [
        "def train(dataloader, model, loss_fn, optimizer):\n",
        "    size = len(dataloader.dataset)\n",
        "    model.train()\n",
        "    for batch, (X, y) in enumerate(dataloader):\n",
        "        X, y = X.to(device), y.to(device)\n",
        "\n",
        "        # Compute prediction error\n",
        "        pred = model(X)\n",
        "        loss = loss_fn(pred, y)\n",
        "\n",
        "        # Backpropagation\n",
        "        optimizer.zero_grad()\n",
        "        loss.backward()\n",
        "        optimizer.step()\n",
        "\n",
        "        if batch % 100 == 0:\n",
        "            loss, current = loss.item(), (batch + 1) * len(X)\n",
        "            print(f\"loss: {loss:>7f}  [{current:>5d}/{size:>5d}]\")"
      ]
    },
    {
      "cell_type": "markdown",
      "metadata": {
        "id": "f9CbbOSwgGGL"
      },
      "source": [
        "We also check the model's performance against the test dataset to ensure it is learning.\n",
        "\n"
      ]
    },
    {
      "cell_type": "code",
      "execution_count": null,
      "metadata": {
        "id": "rkSIGzEHgGGM"
      },
      "outputs": [],
      "source": [
        "def test(dataloader, model, loss_fn):\n",
        "    size = len(dataloader.dataset)\n",
        "    num_batches = len(dataloader)\n",
        "    model.eval()\n",
        "    test_loss, correct = 0, 0\n",
        "    with torch.no_grad():\n",
        "        for X, y in dataloader:\n",
        "            X, y = X.to(device), y.to(device)\n",
        "            pred = model(X)\n",
        "            test_loss += loss_fn(pred, y).item()\n",
        "            correct += (pred.argmax(1) == y).type(torch.float).sum().item()\n",
        "    test_loss /= num_batches\n",
        "    correct /= size\n",
        "    print(f\"Test Error: \\n Accuracy: {(100*correct):>0.1f}%, Avg loss: {test_loss:>8f} \\n\")"
      ]
    },
    {
      "cell_type": "markdown",
      "metadata": {
        "id": "BAwAyx-ogGGR"
      },
      "source": [
        "The training process is conducted over several iterations (*epochs*). During each epoch, the model learns\n",
        "parameters to make better predictions. We print the model's accuracy and loss at each epoch; we'd like to see the\n",
        "accuracy increase and the loss decrease with every epoch.\n",
        "\n"
      ]
    },
    {
      "cell_type": "code",
      "execution_count": null,
      "metadata": {
        "id": "6mC1NRdLgGGS"
      },
      "outputs": [],
      "source": [
        "epochs = 5\n",
        "for t in range(epochs):\n",
        "    print(f\"Epoch {t+1}\\n-------------------------------\")\n",
        "    train(train_dataloader, model, loss_fn, optimizer)\n",
        "    test(test_dataloader, model, loss_fn)\n",
        "print(\"Done!\")"
      ]
    },
    {
      "cell_type": "markdown",
      "metadata": {
        "id": "bkZjA-UygGGS"
      },
      "source": [
        "Read more about [Training your model](optimization_tutorial.html).\n",
        "\n",
        "\n"
      ]
    },
    {
      "cell_type": "markdown",
      "metadata": {
        "id": "PXyNNLYngGGT"
      },
      "source": [
        "--------------\n",
        "\n",
        "\n"
      ]
    },
    {
      "cell_type": "markdown",
      "metadata": {
        "id": "d0uKWcPEgGGT"
      },
      "source": [
        "## Saving Models\n",
        "A common way to save a model is to serialize the internal state dictionary (containing the model parameters).\n",
        "\n"
      ]
    },
    {
      "cell_type": "code",
      "execution_count": null,
      "metadata": {
        "id": "bB506Ol0gGGT"
      },
      "outputs": [],
      "source": [
        "torch.save(model.state_dict(), \"model.pth\")\n",
        "print(\"Saved PyTorch Model State to model.pth\")"
      ]
    },
    {
      "cell_type": "markdown",
      "metadata": {
        "id": "9jsY7TaPgGGU"
      },
      "source": [
        "## Loading Models\n",
        "\n",
        "The process for loading a model includes re-creating the model structure and loading\n",
        "the state dictionary into it.\n",
        "\n"
      ]
    },
    {
      "cell_type": "code",
      "execution_count": null,
      "metadata": {
        "id": "uZBsW5HvgGGU"
      },
      "outputs": [],
      "source": [
        "model = NeuralNetwork()\n",
        "model.load_state_dict(torch.load(\"model.pth\"))"
      ]
    },
    {
      "cell_type": "markdown",
      "metadata": {
        "id": "Yxf8G6F6gGGU"
      },
      "source": [
        "This model can now be used to make predictions.\n",
        "\n"
      ]
    },
    {
      "cell_type": "code",
      "execution_count": null,
      "metadata": {
        "id": "xaqF1dKfgGGV"
      },
      "outputs": [],
      "source": [
        "classes = [\n",
        "    \"T-shirt/top\",\n",
        "    \"Trouser\",\n",
        "    \"Pullover\",\n",
        "    \"Dress\",\n",
        "    \"Coat\",\n",
        "    \"Sandal\",\n",
        "    \"Shirt\",\n",
        "    \"Sneaker\",\n",
        "    \"Bag\",\n",
        "    \"Ankle boot\",\n",
        "]\n",
        "\n",
        "model.eval()\n",
        "x, y = test_data[0][0], test_data[0][1]\n",
        "with torch.no_grad():\n",
        "    pred = model(x)\n",
        "    predicted, actual = classes[pred[0].argmax(0)], classes[y]\n",
        "    print(f'Predicted: \"{predicted}\", Actual: \"{actual}\"')"
      ]
    },
    {
      "cell_type": "markdown",
      "metadata": {
        "id": "aS3Hn-VWgGGV"
      },
      "source": [
        "Read more about [Saving & Loading your model](saveloadrun_tutorial.html).\n",
        "\n",
        "\n"
      ]
    }
  ],
  "metadata": {
    "kernelspec": {
      "display_name": "Python 3",
      "language": "python",
      "name": "python3"
    },
    "language_info": {
      "codemirror_mode": {
        "name": "ipython",
        "version": 3
      },
      "file_extension": ".py",
      "mimetype": "text/x-python",
      "name": "python",
      "nbconvert_exporter": "python",
      "pygments_lexer": "ipython3",
      "version": "3.10.9"
    },
    "colab": {
      "provenance": [],
      "include_colab_link": true
    }
  },
  "nbformat": 4,
  "nbformat_minor": 0
}